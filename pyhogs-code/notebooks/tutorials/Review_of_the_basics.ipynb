{
 "metadata": {
  "name": "Part_1_Review_of_the_basics.ipynb"
 },
 "nbformat": 3,
 "nbformat_minor": 0,
 "worksheets": [
  {
   "cells": [
    {
     "cell_type": "heading",
     "level": 1,
     "metadata": {},
     "source": [
      "Review of the basics"
     ]
    },
    {
     "cell_type": "markdown",
     "metadata": {},
     "source": [
      "<a id='top'></a>"
     ]
    },
    {
     "cell_type": "markdown",
     "metadata": {},
     "source": [
      "+ [Code Formatting](#Code-Formatting)\n",
      "    + [New statements, comments and blank lines](#sec11)\n",
      "    + [Indentation](#Indentation)\n",
      "+ [Standard Data Types](#Standard-Data-Types) \n",
      "    + [Numbers](#Numbers)\n",
      "    + [Strings](#Strings)\n",
      "        + [String slicing](#String-slicing)\n",
      "    + [Lists](#Lists)\n",
      "    + [Dictionaries](#Dictionaries)\n",
      "    + [Tuples](#Tuples)\n",
      "    + [Other important data types](#Other-standard/important-data-types)\n",
      "+ [Functions, Modules and Packages](#Functions,-modules-and-packages)\n",
      "    + [Functions](#Functions)\n",
      "    + [Modules](#Modules)\n",
      "        + [Different ways to import modules](#Different-ways-to-import-modules)\n",
      "    + [Packages](#Packages)    "
     ]
    },
    {
     "cell_type": "markdown",
     "metadata": {},
     "source": [
      "<a id='code_format'></a>"
     ]
    },
    {
     "cell_type": "heading",
     "level": 1,
     "metadata": {},
     "source": [
      "Code Formatting"
     ]
    },
    {
     "cell_type": "markdown",
     "metadata": {},
     "source": [
      "<a id='sec11'></a>"
     ]
    },
    {
     "cell_type": "markdown",
     "metadata": {},
     "source": [
      "## New statements, comments and blank lines"
     ]
    },
    {
     "cell_type": "markdown",
     "metadata": {},
     "source": [
      "Python statements are normally written on individual lines. Multiple statements can be written on the same line if they are separated by semicolons (;). Having multiple statements on a single line is allowable as long as none of the statements start a new code block, such as a for loop or an if statement. Here is a simple set of Python statements:"
     ]
    },
    {
     "cell_type": "code",
     "collapsed": false,
     "input": [
      "x = 10\n",
      "y = 20\n",
      "z = x+y\n",
      "print z"
     ],
     "language": "python",
     "metadata": {},
     "outputs": [
      {
       "output_type": "stream",
       "stream": "stdout",
       "text": [
        "30\n"
       ]
      }
     ],
     "prompt_number": 1
    },
    {
     "cell_type": "markdown",
     "metadata": {},
     "source": [
      "The above lines can also be written as:"
     ]
    },
    {
     "cell_type": "code",
     "collapsed": false,
     "input": [
      "x = 10; y = 20; z = x+y; print z"
     ],
     "language": "python",
     "metadata": {},
     "outputs": [
      {
       "output_type": "stream",
       "stream": "stdout",
       "text": [
        "30\n"
       ]
      }
     ],
     "prompt_number": 2
    },
    {
     "cell_type": "markdown",
     "metadata": {},
     "source": [
      "Lines that contain only white spaces are considered blank lines and are ignored by the Python Interpreter. Comments are identified by the hash symbol (\\#). The Python interpreter ignores anything on a line that comes after \\# :"
     ]
    },
    {
     "cell_type": "code",
     "collapsed": false,
     "input": [
      "x = [1, 3, 4, 6] #this line creates a list of numbers named x\n",
      "for number in x:\n",
      "    #this loop prints each number in x\n",
      "    print number"
     ],
     "language": "python",
     "metadata": {},
     "outputs": [
      {
       "output_type": "stream",
       "stream": "stdout",
       "text": [
        "1\n",
        "3\n",
        "4\n",
        "6\n"
       ]
      }
     ],
     "prompt_number": 3
    },
    {
     "cell_type": "heading",
     "level": 2,
     "metadata": {},
     "source": [
      "Indentation"
     ]
    },
    {
     "cell_type": "markdown",
     "metadata": {},
     "source": [
      "Python uses indentation to indicate blocks of code, such as `if` statements, `for` loops and functions. For example, a simple but syntactically correct `if` statement  would be:"
     ]
    },
    {
     "cell_type": "code",
     "collapsed": false,
     "input": [
      "x = 20\n",
      "if x > 10:\n",
      "    print x\n",
      "    print \"This number is larger than 10.\""
     ],
     "language": "python",
     "metadata": {},
     "outputs": [
      {
       "output_type": "stream",
       "stream": "stdout",
       "text": [
        "20\n",
        "This number is larger than 10.\n"
       ]
      }
     ],
     "prompt_number": 4
    },
    {
     "cell_type": "markdown",
     "metadata": {},
     "source": [
      "The first print statement prints the value of `x`. The line below prints the statement in quotations. In MATLAB, indented formatting is encouraged but not mandatory. In Python, indentation is strictly enforced. For example, the following would produce an error:"
     ]
    },
    {
     "cell_type": "code",
     "collapsed": false,
     "input": [
      "x = 20\n",
      "if x > 10:\n",
      "    print x\n",
      "      print \"This line is not properly indented.\""
     ],
     "language": "python",
     "metadata": {},
     "outputs": [
      {
       "ename": "IndentationError",
       "evalue": "unexpected indent (<ipython-input-5-d8a5ef6c8cb2>, line 4)",
       "output_type": "pyerr",
       "traceback": [
        "\u001b[0;36m  File \u001b[0;32m\"<ipython-input-5-d8a5ef6c8cb2>\"\u001b[0;36m, line \u001b[0;32m4\u001b[0m\n\u001b[0;31m    print \"This line is not properly indented.\"\u001b[0m\n\u001b[0m    ^\u001b[0m\n\u001b[0;31mIndentationError\u001b[0m\u001b[0;31m:\u001b[0m unexpected indent\n"
       ]
      }
     ],
     "prompt_number": 5
    },
    {
     "cell_type": "markdown",
     "metadata": {},
     "source": [
      "By convention, a new block of code is indented by four spaces. Any number of spaces are allowable as long as all statements within the block are indented by the same amount. This is Python's way of forcing users to write more reader friendly code. \n",
      "\n",
      "Also note there is no `end` statement in the first code snippet. To end an `if` statement, or any nested block of code, you simply return to the previous indentation:"
     ]
    },
    {
     "cell_type": "code",
     "collapsed": false,
     "input": [
      "x = 20\n",
      "if x > 10:\n",
      "    print x\n",
      "    print \"x is larger than 10.\"\n",
      "print \"The previous if statement has ended.\" "
     ],
     "language": "python",
     "metadata": {},
     "outputs": []
    },
    {
     "cell_type": "markdown",
     "metadata": {},
     "source": [
      "[Back to Top](#top)"
     ]
    },
    {
     "cell_type": "heading",
     "level": 1,
     "metadata": {},
     "source": [
      "Standard Data Types"
     ]
    },
    {
     "cell_type": "markdown",
     "metadata": {},
     "source": [
      "The python standard library supports many data types. Here, we introduce the five primary built-in data types: **Numbers, strings, lists, tuples and dictionaries**. Bear in mind that there are many other data types outside the standard library. These are only accessible after importing a specific module. For example, the numerical python module (NumPy) supports numerical array and masked array data types. These are important for data analysis and will be discussed in a later section. "
     ]
    },
    {
     "cell_type": "heading",
     "level": 2,
     "metadata": {},
     "source": [
      "Numbers"
     ]
    },
    {
     "cell_type": "markdown",
     "metadata": {},
     "source": [
      "There are four standard numerical data types: **integers (signed integers), floating point real numbers or floats, complex numbers and long integers**. In practice, you will probably only use the first three. You can define floats and integers as follows:"
     ]
    },
    {
     "cell_type": "code",
     "collapsed": false,
     "input": [
      "x_int = 20 #this is an integer\n",
      "x_float = 20.0 #this is a floating point number"
     ],
     "language": "python",
     "metadata": {},
     "outputs": [],
     "prompt_number": 6
    },
    {
     "cell_type": "markdown",
     "metadata": {},
     "source": [
      "To define a complex number, you would use the `complex` function:"
     ]
    },
    {
     "cell_type": "code",
     "collapsed": false,
     "input": [
      "x_complex = complex(3,4) #3 + 4i"
     ],
     "language": "python",
     "metadata": {},
     "outputs": [],
     "prompt_number": 7
    },
    {
     "cell_type": "markdown",
     "metadata": {},
     "source": [
      "To get the real and imaginary parts of complex number, use would use the methods: `x_complex.real` and `x_complex.imaj`"
     ]
    },
    {
     "cell_type": "markdown",
     "metadata": {},
     "source": [
      "There are also similar functions for create integers and floats. These same functions can be used to convert one numeric type into another:"
     ]
    },
    {
     "cell_type": "code",
     "collapsed": false,
     "input": [
      "x_float = float(20) \n",
      "print x_float \n",
      "x_int= int(-20.2334) \n",
      "print x_int"
     ],
     "language": "python",
     "metadata": {},
     "outputs": [
      {
       "output_type": "stream",
       "stream": "stdout",
       "text": [
        "20.0\n",
        "-20\n"
       ]
      }
     ],
     "prompt_number": 8
    },
    {
     "cell_type": "markdown",
     "metadata": {},
     "source": [
      "**Important:** Any operation involving integers will produce integers. For example:"
     ]
    },
    {
     "cell_type": "code",
     "collapsed": false,
     "input": [
      "1/2"
     ],
     "language": "python",
     "metadata": {},
     "outputs": [
      {
       "metadata": {},
       "output_type": "pyout",
       "prompt_number": 9,
       "text": [
        "0"
       ]
      }
     ],
     "prompt_number": 9
    },
    {
     "cell_type": "markdown",
     "metadata": {},
     "source": [
      "Likewise,"
     ]
    },
    {
     "cell_type": "code",
     "collapsed": false,
     "input": [
      "21/2"
     ],
     "language": "python",
     "metadata": {},
     "outputs": [
      {
       "metadata": {},
       "output_type": "pyout",
       "prompt_number": 10,
       "text": [
        "10"
       ]
      }
     ],
     "prompt_number": 10
    },
    {
     "cell_type": "markdown",
     "metadata": {},
     "source": [
      "In both examples, the solution is floored to the nearest integer. This behavior would be unexpected if you are coming from matlab. To produce the actual mathematical solution, you would need to make at least one of the numbers a float:"
     ]
    },
    {
     "cell_type": "code",
     "collapsed": false,
     "input": [
      "1./2"
     ],
     "language": "python",
     "metadata": {},
     "outputs": [
      {
       "metadata": {},
       "output_type": "pyout",
       "prompt_number": 11,
       "text": [
        "0.5"
       ]
      }
     ],
     "prompt_number": 11
    },
    {
     "cell_type": "markdown",
     "metadata": {},
     "source": [
      "Before we move one, we need to mention that **numbers are immutable objects**. This means that you cannot alter a numerical object after it is defined. For example, if you type `a = 1230`, you cannot change `a` to `1234` by doing: `a[3] = 4`. Your only option is to do reassign `a` to a new number:  `a = 1234`. If you are a MATLAB user, this might seem trivial since numbers in MATLAB have the same characteristics. However, immutability is a more central concept in Python and applies to other data types."
     ]
    },
    {
     "cell_type": "heading",
     "level": 2,
     "metadata": {},
     "source": [
      "Strings"
     ]
    },
    {
     "cell_type": "markdown",
     "metadata": {},
     "source": [
      "Strings are defined by quotation marks. Both single and double quotations may be used to define a string literal. The only rule is that you can't mix single quotes with double quotes in a single definition. For example:"
     ]
    },
    {
     "cell_type": "code",
     "collapsed": false,
     "input": [
      "str1 = 'banana'\n",
      "str2 = \"banana\""
     ],
     "language": "python",
     "metadata": {},
     "outputs": [],
     "prompt_number": 12
    },
    {
     "cell_type": "markdown",
     "metadata": {},
     "source": [
      "The advantage of using double quotes is that you can easily include apostrophes:"
     ]
    },
    {
     "cell_type": "code",
     "collapsed": false,
     "input": [
      "song_title = \"Don't stop believin' \""
     ],
     "language": "python",
     "metadata": {},
     "outputs": [],
     "prompt_number": 13
    },
    {
     "cell_type": "markdown",
     "metadata": {},
     "source": [
      "Triple quotes perform the same function as single and double quotes but they have added advantage of being able to span multiple lines:"
     ]
    },
    {
     "cell_type": "code",
     "collapsed": false,
     "input": [
      "first_two_lines = \"\"\"Just a small town girl\n",
      "Livin' in a lonely world \"\"\""
     ],
     "language": "python",
     "metadata": {},
     "outputs": [],
     "prompt_number": 14
    },
    {
     "cell_type": "markdown",
     "metadata": {},
     "source": [
      "Triple quotes are especially useful for providing function descriptions. For example:"
     ]
    },
    {
     "cell_type": "code",
     "collapsed": false,
     "input": [
      "def my_function():\n",
      "    \"\"\" This a simple function to demonstrate\n",
      "    the use of triple quotes. You would normally\n",
      "    put some a brief description of your function in this space.\n",
      "    To access this information from the command line, \n",
      "    you first import the module (if in a separate script), \n",
      "    then type: my_function.__doc__ or \n",
      "    help(my_function)\"\"\"\n",
      "    pass #Tells interpreter: nothing to see here, carry on."
     ],
     "language": "python",
     "metadata": {},
     "outputs": [],
     "prompt_number": 15
    },
    {
     "cell_type": "markdown",
     "metadata": {},
     "source": [
      "Since this particular function is already in our workspace, we query about the function using the help function:"
     ]
    },
    {
     "cell_type": "code",
     "collapsed": false,
     "input": [
      "help(my_function)"
     ],
     "language": "python",
     "metadata": {},
     "outputs": [
      {
       "output_type": "stream",
       "stream": "stdout",
       "text": [
        "Help on function my_function in module __main__:\n",
        "\n",
        "my_function()\n",
        "    This a simple function to demonstrate\n",
        "    the use of triple quotes. You would normally\n",
        "    put some a brief description of your function in this space.\n",
        "    To access this information from the command line, \n",
        "    you first import the module (if in a separate script), \n",
        "    then type: my_function.__doc__ or \n",
        "    help(my_function)\n",
        "\n"
       ]
      }
     ],
     "prompt_number": 16
    },
    {
     "cell_type": "heading",
     "level": 3,
     "metadata": {},
     "source": [
      "String slicing"
     ]
    },
    {
     "cell_type": "markdown",
     "metadata": {},
     "source": [
      "The first thing to note is that Python uses a zero based indexing system:"
     ]
    },
    {
     "cell_type": "code",
     "collapsed": false,
     "input": [
      "song_title = \"Don't stop believin' \""
     ],
     "language": "python",
     "metadata": {},
     "outputs": [],
     "prompt_number": 13
    },
    {
     "cell_type": "code",
     "collapsed": false,
     "input": [
      "print song_title[0] "
     ],
     "language": "python",
     "metadata": {},
     "outputs": [
      {
       "output_type": "stream",
       "stream": "stdout",
       "text": [
        "D\n"
       ]
      }
     ],
     "prompt_number": 17
    },
    {
     "cell_type": "markdown",
     "metadata": {},
     "source": [
      "Portions of a string may be accessed using the following slicing syntax:"
     ]
    },
    {
     "cell_type": "code",
     "collapsed": false,
     "input": [
      "song_title[2:]"
     ],
     "language": "python",
     "metadata": {},
     "outputs": [
      {
       "metadata": {},
       "output_type": "pyout",
       "prompt_number": 18,
       "text": [
        "\"n't stop believin' \""
       ]
      }
     ],
     "prompt_number": 18
    },
    {
     "cell_type": "markdown",
     "metadata": {},
     "source": [
      "The above produces the third string character and everything that comes after it. To get the first four characters you would do:"
     ]
    },
    {
     "cell_type": "code",
     "collapsed": false,
     "input": [
      "song_title[:4]"
     ],
     "language": "python",
     "metadata": {},
     "outputs": [
      {
       "metadata": {},
       "output_type": "pyout",
       "prompt_number": 19,
       "text": [
        "\"Don'\""
       ]
      }
     ],
     "prompt_number": 19
    },
    {
     "cell_type": "markdown",
     "metadata": {},
     "source": [
      "Likewise, to the last 5:"
     ]
    },
    {
     "cell_type": "code",
     "collapsed": false,
     "input": [
      "song_title[-5:]"
     ],
     "language": "python",
     "metadata": {},
     "outputs": [
      {
       "metadata": {},
       "output_type": "pyout",
       "prompt_number": 20,
       "text": [
        "\"vin' \""
       ]
      }
     ],
     "prompt_number": 20
    },
    {
     "cell_type": "markdown",
     "metadata": {},
     "source": [
      "There is a space after the apostrophe, so there are in fact 5 characters. \n",
      "\n",
      "To summarize, the first element of any python sequence is indexed by 0.  `str[n:]` selects for `str[n]` and all the characters that follow, while `str[:n]` selects for all the characters that come *before* `str[n]`."
     ]
    },
    {
     "cell_type": "markdown",
     "metadata": {},
     "source": [
      "**Like numbers, strings are immutable.** Once a string is defined, you cannot alter any character in the string. Immutability makes strings relatively simple and more efficient to use. To create a modified version of a string, you first have to create a new string.\n",
      "\n",
      "More info on Python strings, check of the official [String documentation](https://docs.python.org/2/library/string.html)"
     ]
    },
    {
     "cell_type": "markdown",
     "metadata": {},
     "source": [
      "[Back to Top](#top)"
     ]
    },
    {
     "cell_type": "heading",
     "level": 2,
     "metadata": {},
     "source": [
      "Lists"
     ]
    },
    {
     "cell_type": "markdown",
     "metadata": {},
     "source": [
      "A Python list is exactly what you think it is; it is a list or sequence of variables. Here is a simple list of numbers:"
     ]
    },
    {
     "cell_type": "code",
     "collapsed": false,
     "input": [
      "numberlist = [1, 2, 3, 4]"
     ],
     "language": "python",
     "metadata": {},
     "outputs": [],
     "prompt_number": 21
    },
    {
     "cell_type": "markdown",
     "metadata": {},
     "source": [
      "Note that the items of the list are comma separated and bounded by square brackets. A list may contain any type of variable and can be any length:"
     ]
    },
    {
     "cell_type": "code",
     "collapsed": false,
     "input": [
      "mylist = ['year', 2001, 2002, 2003, 2004]"
     ],
     "language": "python",
     "metadata": {},
     "outputs": [],
     "prompt_number": 22
    },
    {
     "cell_type": "markdown",
     "metadata": {},
     "source": [
      "The indexing and slicing rules discussed for strings also apply to lists. To access the character `e` in the first list item, you would use `mylist[0][1]`. Unlike strings, **lists are mutable**:"
     ]
    },
    {
     "cell_type": "code",
     "collapsed": false,
     "input": [
      "mylist[3] = 2010\n",
      "mylist"
     ],
     "language": "python",
     "metadata": {},
     "outputs": [
      {
       "metadata": {},
       "output_type": "pyout",
       "prompt_number": 23,
       "text": [
        "['year', 2001, 2002, 2010, 2004]"
       ]
      }
     ],
     "prompt_number": 23
    },
    {
     "cell_type": "markdown",
     "metadata": {},
     "source": [
      "To add an item to a list, you can use the append method:"
     ]
    },
    {
     "cell_type": "code",
     "collapsed": false,
     "input": [
      "mylist.append(2005)\n",
      "mylist"
     ],
     "language": "python",
     "metadata": {},
     "outputs": [
      {
       "metadata": {},
       "output_type": "pyout",
       "prompt_number": 24,
       "text": [
        "['year', 2001, 2002, 2010, 2004, 2005]"
       ]
      }
     ],
     "prompt_number": 24
    },
    {
     "cell_type": "markdown",
     "metadata": {},
     "source": [
      "A more detailed description of lists and their available operations can be found [here](http://www.tutorialspoint.com/python/python_lists.htm)."
     ]
    },
    {
     "cell_type": "markdown",
     "metadata": {},
     "source": [
      "[Back to Top](#top)"
     ]
    },
    {
     "cell_type": "heading",
     "level": 2,
     "metadata": {},
     "source": [
      "Dictionaries"
     ]
    },
    {
     "cell_type": "markdown",
     "metadata": {},
     "source": [
      "Dictionaries are **mutable** containers for Python objects. Dictionaries consist of `keys` and their contents. Here is a simple dictionary:"
     ]
    },
    {
     "cell_type": "code",
     "collapsed": false,
     "input": [
      "contacts = {'John': 6462100, 'Adam': 6461870}"
     ],
     "language": "python",
     "metadata": {},
     "outputs": [],
     "prompt_number": 25
    },
    {
     "cell_type": "markdown",
     "metadata": {},
     "source": [
      "In the above example, the string objects `John` and `Adam` are the keys. Values are assigned to keys with a colon (:). Keys must be unique and must be an immutable object such as a string, tuple or number. Values can be any Python object. Dictionaries are particularly useful for storing data. Here is how you could store data from a hypothetical profiling float:"
     ]
    },
    {
     "cell_type": "code",
     "collapsed": false,
     "input": [
      "float55 = {'Date': '2010-09-13', 'Lat': 10.1,'Lon': 78.5, 'salinity': [28.8, 31.3, 34.5, 35.1]}"
     ],
     "language": "python",
     "metadata": {},
     "outputs": [],
     "prompt_number": 26
    },
    {
     "cell_type": "markdown",
     "metadata": {},
     "source": [
      "Dictionary data are retrieved using keys instead of numeric indices. For example:"
     ]
    },
    {
     "cell_type": "code",
     "collapsed": false,
     "input": [
      "float55['Lon']"
     ],
     "language": "python",
     "metadata": {},
     "outputs": [
      {
       "metadata": {},
       "output_type": "pyout",
       "prompt_number": 27,
       "text": [
        "78.5"
       ]
      }
     ],
     "prompt_number": 27
    },
    {
     "cell_type": "markdown",
     "metadata": {},
     "source": [
      "Similarly, to update data stored under a key, you could do:"
     ]
    },
    {
     "cell_type": "code",
     "collapsed": false,
     "input": [
      "float55[\"Date\"] = [2010, 9, 13]\n",
      "float55"
     ],
     "language": "python",
     "metadata": {},
     "outputs": [
      {
       "metadata": {},
       "output_type": "pyout",
       "prompt_number": 28,
       "text": [
        "{'Date': [2010, 9, 13],\n",
        " 'Lat': 10.1,\n",
        " 'Lon': 78.5,\n",
        " 'salinity': [28.8, 31.3, 34.5, 35.1]}"
       ]
      }
     ],
     "prompt_number": 28
    },
    {
     "cell_type": "markdown",
     "metadata": {},
     "source": [
      "You can use the same syntax to add a new key-value item pair:"
     ]
    },
    {
     "cell_type": "code",
     "collapsed": false,
     "input": [
      "float55[\"Temperature\"] = [31.1, 30.5, 28.5, 30.2] #inversion!\n",
      "float55"
     ],
     "language": "python",
     "metadata": {},
     "outputs": [
      {
       "metadata": {},
       "output_type": "pyout",
       "prompt_number": 29,
       "text": [
        "{'Date': [2010, 9, 13],\n",
        " 'Lat': 10.1,\n",
        " 'Lon': 78.5,\n",
        " 'Temperature': [31.1, 30.5, 28.5, 30.2],\n",
        " 'salinity': [28.8, 31.3, 34.5, 35.1]}"
       ]
      }
     ],
     "prompt_number": 29
    },
    {
     "cell_type": "markdown",
     "metadata": {},
     "source": [
      "To delete dictionaries, you can use the del statement:"
     ]
    },
    {
     "cell_type": "code",
     "collapsed": false,
     "input": [
      "del float55[\"Lon\"]"
     ],
     "language": "python",
     "metadata": {},
     "outputs": [],
     "prompt_number": 30
    },
    {
     "cell_type": "markdown",
     "metadata": {},
     "source": [
      "You might notice that a Python dictionary is somewhat similar to a MATLAB struc- ture. In fact, as you will see later, MATLAB structures are imported into Python as dictionaries."
     ]
    },
    {
     "cell_type": "heading",
     "level": 2,
     "metadata": {},
     "source": [
      "Tuples"
     ]
    },
    {
     "cell_type": "markdown",
     "metadata": {},
     "source": [
      "Tuples are like lists with the exception that they are immutable. A simple tuple would be:"
     ]
    },
    {
     "cell_type": "code",
     "collapsed": false,
     "input": [
      "tup = (\"buffalo\", 2, \"eggs\", 4, 20) #parentheses are optional"
     ],
     "language": "python",
     "metadata": {},
     "outputs": [],
     "prompt_number": 31
    },
    {
     "cell_type": "markdown",
     "metadata": {},
     "source": [
      "You can slice and index a tuple the same way you do a string or list:"
     ]
    },
    {
     "cell_type": "code",
     "collapsed": false,
     "input": [
      "print tup[2] #prints \"eggs\""
     ],
     "language": "python",
     "metadata": {},
     "outputs": [
      {
       "output_type": "stream",
       "stream": "stdout",
       "text": [
        "eggs\n"
       ]
      }
     ],
     "prompt_number": 32
    },
    {
     "cell_type": "markdown",
     "metadata": {},
     "source": [
      "To define a single element tuple you have to use the following syntax:"
     ]
    },
    {
     "cell_type": "code",
     "collapsed": false,
     "input": [
      "tup1 = (10 ,)"
     ],
     "language": "python",
     "metadata": {},
     "outputs": [],
     "prompt_number": 33
    },
    {
     "cell_type": "markdown",
     "metadata": {},
     "source": [
      "Without the trailing comma, Python interprets `tup1` as an integer. One common\n",
      "application of tuples is string formatting. For example:"
     ]
    },
    {
     "cell_type": "code",
     "collapsed": false,
     "input": [
      "vble_name = 'SSH' \n",
      "month = 'Jan' \n",
      "year = 2010\n",
      "print \"Plotting %s data for %s %d\" %(vble_name, month, year)"
     ],
     "language": "python",
     "metadata": {},
     "outputs": [
      {
       "output_type": "stream",
       "stream": "stdout",
       "text": [
        "Plotting SSH data for Jan 2010\n"
       ]
      }
     ],
     "prompt_number": 34
    },
    {
     "cell_type": "markdown",
     "metadata": {},
     "source": [
      "The `%s` and the `%d` are placeholders for the elements in the tuple `(vble name, month, year)`. These are called **argument specifiers**. You would use `%s`, `%d` and `%f` when substituting for strings, integers and floats, respectively. This is what happens when you replace `%d` with `%f`:"
     ]
    },
    {
     "cell_type": "code",
     "collapsed": false,
     "input": [
      "print \"Plotting %s data for %s %f\" %(vble_name, month, year)"
     ],
     "language": "python",
     "metadata": {},
     "outputs": [
      {
       "output_type": "stream",
       "stream": "stdout",
       "text": [
        "Plotting SSH data for Jan 2010.000000\n"
       ]
      }
     ],
     "prompt_number": 35
    },
    {
     "cell_type": "markdown",
     "metadata": {},
     "source": [
      "We can specify the number of digits in the float by doing:"
     ]
    },
    {
     "cell_type": "code",
     "collapsed": false,
     "input": [
      "print \"Plotting %s data for %s %.1f\" %(vble_name, month, year)"
     ],
     "language": "python",
     "metadata": {},
     "outputs": [
      {
       "output_type": "stream",
       "stream": "stdout",
       "text": [
        "Plotting SSH data for Jan 2010.0\n"
       ]
      }
     ],
     "prompt_number": 36
    },
    {
     "cell_type": "markdown",
     "metadata": {},
     "source": [
      "String formatting is handy when constructing strings for filenames, plot titles, axis labels etc. To learn more, visit the [string formatting](https://docs.python.org/2/library/string.html#formatstrings) documentation."
     ]
    },
    {
     "cell_type": "heading",
     "level": 2,
     "metadata": {},
     "source": [
      "Other standard/important data types"
     ]
    },
    {
     "cell_type": "markdown",
     "metadata": {},
     "source": [
      "Other standard data types not discussed here are [sets](http://en.wikibooks.org/wiki/Python_Programming/Sets), frozen sets and booleans. \n",
      "\n",
      "For matrix and array manipulation, there is also the **Numpy [array](http://docs.scipy.org/doc/numpy/reference/arrays.ndarray.html) and [masked array](http://docs.scipy.org/doc/numpy/reference/maskedarray.html)** data types. These are the data types that you would use to store and manipulate data. A description of Numpy arrays will be provided later. "
     ]
    },
    {
     "cell_type": "markdown",
     "metadata": {},
     "source": [
      "[Back to Top](#top)"
     ]
    },
    {
     "cell_type": "heading",
     "level": 1,
     "metadata": {},
     "source": [
      "Functions, modules and packages"
     ]
    },
    {
     "cell_type": "heading",
     "level": 1,
     "metadata": {},
     "source": [
      "Functions"
     ]
    },
    {
     "cell_type": "markdown",
     "metadata": {},
     "source": [
      "Functions are defined using the following syntax:"
     ]
    },
    {
     "cell_type": "markdown",
     "metadata": {},
     "source": [
      "\ufffcdef my_function (): \n",
      "\n",
      "    <statement(s)>"
     ]
    },
    {
     "cell_type": "markdown",
     "metadata": {},
     "source": [
      "The necessary syntax involves a `def` statement followed by the function name, open and close parentheses, and a colon (:). The code block that is to be executed when the function is called is indented. The code block can include any valid Python statement. To call this function you would type `my_function()` - the parentheses are always necessary.\n",
      "A function may have any number of inputs or outputs. To get output from a function, you must use the `return` statement:"
     ]
    },
    {
     "cell_type": "markdown",
     "metadata": {},
     "source": [
      "\ufffcdef my_function(arg1, arg2): \n",
      "    \n",
      "    <statement(s)>\n",
      "    \n",
      "    return output"
     ]
    },
    {
     "cell_type": "markdown",
     "metadata": {},
     "source": [
      "Here is a more tangible example:"
     ]
    },
    {
     "cell_type": "code",
     "collapsed": false,
     "input": [
      "def selfAwareFunction ():\n",
      "    print \"I am a Python Function.\"\n",
      "    print \"I require nothing and provide nothing.\" \n",
      "    print \"I am not very useful.\""
     ],
     "language": "python",
     "metadata": {},
     "outputs": [],
     "prompt_number": 37
    },
    {
     "cell_type": "markdown",
     "metadata": {},
     "source": [
      "Here is more useful function:"
     ]
    },
    {
     "cell_type": "code",
     "collapsed": false,
     "input": [
      "def findQuadRoots(a,b,c):\n",
      "    \"\"\"Finds the roots of a quadratic equation of the form: \n",
      "    ax**2 + bx + c = 0. \n",
      "    \n",
      "    The function solves the quadratic formula:\n",
      "        roots = (-b +/- (b**2 - 4*a*c)**(0.5))/(2*a) \n",
      "    and prints the root(s) whether real or complex.\n",
      "    \"\"\" \n",
      "    \n",
      "    a = float(a) # to ensure that math works out properly.\n",
      "    discrim = b**2 - 4*a*c #compute discriminant\n",
      "    \n",
      "    if discrim < 0:\n",
      "        realpart = -b/(2*a)\n",
      "        complexpart_pos = (-discrim)**(0.5)/(2*a)\n",
      "        complexpart_neg = -complexpart_pos\n",
      "        pos_root = complex(realpart,complexpart_pos)\n",
      "        neg_root = complex(realpart,complexpart_neg)\n",
      "        \n",
      "        print \"Equation has two complex roots:\"\n",
      "        print \"%.2f +/- %.2f i\" %(pos_root.real, pos_root.imag)\n",
      "        #The %.2f specifies two decimal places.\n",
      "        \n",
      "    if discrim == 0:\n",
      "        root = -b/(2*a)\n",
      "        print \"Equation has one unique root: %.2f\" %root\n",
      "    \n",
      "    if discrim > 0: \n",
      "        pos_root = (-b + discrim**(0.5))/(2*a)\n",
      "        neg_root = (-b - discrim**(0.5))/(2*a)\n",
      "        \n",
      "        print \"Equation has two real roots: \"\n",
      "        print \"%.2f and %.2f\" %(pos_root,neg_root)       "
     ],
     "language": "python",
     "metadata": {},
     "outputs": [],
     "prompt_number": 38
    },
    {
     "cell_type": "markdown",
     "metadata": {},
     "source": [
      "As mentioned earlier, triple quotes can be used to provide a brief description of your function. Doing this is generally good form. If I type `help(findQuadRoots)` into my command line, I get a print out of the function\u2019s description."
     ]
    },
    {
     "cell_type": "code",
     "collapsed": false,
     "input": [
      "help(findQuadRoots)"
     ],
     "language": "python",
     "metadata": {},
     "outputs": [
      {
       "output_type": "stream",
       "stream": "stdout",
       "text": [
        "Help on function findQuadRoots in module __main__:\n",
        "\n",
        "findQuadRoots(a, b, c)\n",
        "    Finds the roots of a quadratic equation of the form: \n",
        "    ax**2 + bx + c = 0. \n",
        "    \n",
        "    The function solves the quadratic formula:\n",
        "        roots = (-b +/- (b**2 - 4*a*c)**(0.5))/(2*a) \n",
        "    and prints the root(s) whether real or complex.\n",
        "\n"
       ]
      }
     ],
     "prompt_number": 39
    },
    {
     "cell_type": "markdown",
     "metadata": {},
     "source": [
      "Now use the function:"
     ]
    },
    {
     "cell_type": "code",
     "collapsed": false,
     "input": [
      "findQuadRoots(2,4,8)"
     ],
     "language": "python",
     "metadata": {},
     "outputs": [
      {
       "output_type": "stream",
       "stream": "stdout",
       "text": [
        "Equation has two complex roots:\n",
        "-1.00 +/- 1.73 i\n"
       ]
      }
     ],
     "prompt_number": 40
    },
    {
     "cell_type": "code",
     "collapsed": false,
     "input": [
      "findQuadRoots(2,6,4)"
     ],
     "language": "python",
     "metadata": {},
     "outputs": [
      {
       "output_type": "stream",
       "stream": "stdout",
       "text": [
        "Equation has two real roots: \n",
        "-1.00 and -2.00\n"
       ]
      }
     ],
     "prompt_number": 41
    },
    {
     "cell_type": "heading",
     "level": 2,
     "metadata": {},
     "source": [
      "Modules"
     ]
    },
    {
     "cell_type": "markdown",
     "metadata": {},
     "source": [
      "Modules are python files that implement a set of functions. When you write a script with a function and save the file, you create a module. To use a function from a module, you have to import it first. Python has many built in modules. A common module is the os module. To import and use the os module, you would do:"
     ]
    },
    {
     "cell_type": "code",
     "collapsed": false,
     "input": [
      "import os\n",
      "cwd = os.getcwd() #get current working directory"
     ],
     "language": "python",
     "metadata": {},
     "outputs": [],
     "prompt_number": 42
    },
    {
     "cell_type": "markdown",
     "metadata": {},
     "source": [
      "The import statement provides access to all the functions available in the os module. The second line shows how to use a function from a module. To find out which functions are included in a module, you would use the help() and dir() functions. The dir function prints out a list of all the names defined in the module. help(module) provides information about an entire module or a specific function from the module. For example, to learn more about os.getcwd, you would do:"
     ]
    },
    {
     "cell_type": "code",
     "collapsed": false,
     "input": [
      "help(os.getcwd)"
     ],
     "language": "python",
     "metadata": {},
     "outputs": [
      {
       "output_type": "stream",
       "stream": "stdout",
       "text": [
        "Help on built-in function getcwd in module posix:\n",
        "\n",
        "getcwd(...)\n",
        "    getcwd() -> path\n",
        "    \n",
        "    Return a string representing the current working directory.\n",
        "\n"
       ]
      }
     ],
     "prompt_number": 43
    },
    {
     "cell_type": "heading",
     "level": 3,
     "metadata": {},
     "source": [
      "Different ways to import modules"
     ]
    },
    {
     "cell_type": "markdown",
     "metadata": {},
     "source": [
      "There a few ways to import a module. If the module name is relatively long, it is annoying to have to re-write the module name each time you want to use one of its function. A solution would be to import the module under an alias:"
     ]
    },
    {
     "cell_type": "code",
     "collapsed": false,
     "input": [
      "import numpy as np\n",
      "np_array = np.array([1, 2, 3, 4]) #creates a numpy array"
     ],
     "language": "python",
     "metadata": {},
     "outputs": [],
     "prompt_number": 44
    },
    {
     "cell_type": "markdown",
     "metadata": {},
     "source": [
      "Sometimes you will only need a one function from the module. For example, the following imports the chdir from the os module into the current namespace:"
     ]
    },
    {
     "cell_type": "code",
     "collapsed": false,
     "input": [
      "from os import chdir "
     ],
     "language": "python",
     "metadata": {},
     "outputs": [],
     "prompt_number": 45
    },
    {
     "cell_type": "markdown",
     "metadata": {},
     "source": [
      "This allows use of the chdir function without referencing the os module. It\u2019s also possible to import all names defined from a module into your current namespace. This is done using the following syntax: `import module \\*`. *However, doing this is strongly discouraged since it makes code less readable.*"
     ]
    },
    {
     "cell_type": "heading",
     "level": 2,
     "metadata": {},
     "source": [
      "Packages"
     ]
    },
    {
     "cell_type": "markdown",
     "metadata": {},
     "source": [
      "A package is simply a collection of modules. Packages may include other packages. Packages are sometimes called libraries or (less commonly) toolboxes. You can import packages the same way you do modules."
     ]
    },
    {
     "cell_type": "markdown",
     "metadata": {},
     "source": [
      "[Back to Top](#top)"
     ]
    }
   ],
   "metadata": {}
  }
 ]
}
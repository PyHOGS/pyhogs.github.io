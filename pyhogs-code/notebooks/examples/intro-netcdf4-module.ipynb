{
 "metadata": {
  "name": "",
  "signature": "sha256:aacf863be7375cae4571871dc3061f0fbedcd2ac1902bbe4a3e48a7bbd9098a8"
 },
 "nbformat": 3,
 "nbformat_minor": 0,
 "worksheets": [
  {
   "cells": [
    {
     "cell_type": "heading",
     "level": 2,
     "metadata": {},
     "source": [
      "What is NetCDF?"
     ]
    },
    {
     "cell_type": "markdown",
     "metadata": {},
     "source": [
      "[NetCDF](http://www.unidata.ucar.edu/software/netcdf/) stands for Network Common Data Format and it is a \"set of software libraries and self-describing, machine-independent data formats that support the creation, access, and sharing of array-oriented scientific data\". In short, NetCDF is a convenient way to store your data. The software is maintained by developers at [Unidata](http://www.unidata.ucar.edu/software/netcdf/), which is a subsidary of [UCAR](http://www2.ucar.edu/). \n",
      "\n",
      "NetCDF has been around for quite some time now and has gained a lot of popularity within the geoscience community. It is a common, quickly becoming the standard, data storage format for oceanographic and atmospheric data. Almost all online databases, in the geosciences at least, provide their data as netCDF files. So, as a researcher in our field, learning how to work with NetCDF is almost necessity."
     ]
    },
    {
     "cell_type": "heading",
     "level": 2,
     "metadata": {},
     "source": [
      "Using NetCDF in Python"
     ]
    },
    {
     "cell_type": "markdown",
     "metadata": {},
     "source": [
      "There are currently several versions of NetCDF in use: `netCDF classic`, `netCDF 64-bit` and `netCDF-4`. `netCDF classic` is the original format and probably the most commonly used version, but it can only store up 2 Gigabits of data. `netCDF 64-bit` provides expanded data storage capabilities. `netCDF-4` is the latest generation of NetCDF. It has the data storage capabilities `netCDF 64-bit` and borrows features from HDF5. You can learn more each version [here](https://www.unidata.ucar.edu/software/netcdf/docs/netcdf-tutorial/Versions.html).  \n",
      "\n",
      "The scipy package includes a [module](http://docs.scipy.org/doc/scipy-0.14.0/reference/generated/scipy.io.netcdf.netcdf_file.html) to read and create netCDF files. However, this module can only work with the `netCDF classic` data format. The `netCDF4` module can handle all netCDF versions. For this reason, the rest of this notebook will discuss the `netCDF4` module.\n",
      "\n",
      "If you can get the `netCDF4` module from the [Python Package Index (PyPi)](https://pypi.python.org/pypi) by typing `pip install netCDF4` from a terminal shell. If you are using Python distribution such as Anaconda or Canopy, you may already have the module installed. "
     ]
    },
    {
     "cell_type": "heading",
     "level": 2,
     "metadata": {},
     "source": [
      "Creating a simple NetCDF dataset"
     ]
    },
    {
     "cell_type": "markdown",
     "metadata": {},
     "source": [
      "To create a netCDF dataset, you use the Dataset method:"
     ]
    },
    {
     "cell_type": "code",
     "collapsed": false,
     "input": [
      "import netCDF4 as nc4\n",
      "\n",
      "f = nc4.Dataset('sample.nc','w', format='NETCDF4') #'w' stands for write\n",
      "tempgrp = f.createGroup('Temp_data')"
     ],
     "language": "python",
     "metadata": {},
     "outputs": [],
     "prompt_number": 1
    },
    {
     "cell_type": "markdown",
     "metadata": {},
     "source": [
      "The above line opens/creates a netCDF file called \"sample.nc\" in your current folder. `f` is a netCDF Dataset object that provides methods for storing variables and other information. Let's create some random data:"
     ]
    },
    {
     "cell_type": "code",
     "collapsed": false,
     "input": [
      "import numpy as np\n",
      "\n",
      "lon = np.arange(45,101,2)\n",
      "lat = np.arange(-30,25,2.5)\n",
      "z = np.arange(0,200,10)\n",
      "x = np.random.randint(10,25, size=(len(lon), len(lat), len(z)))\n",
      "noise = np.random.rand(len(lon), len(lat), len(z))\n",
      "temp_data = x+noise\n",
      "\n",
      "print \"shape of data: \" \n",
      "print temp_data.shape"
     ],
     "language": "python",
     "metadata": {},
     "outputs": [
      {
       "output_type": "stream",
       "stream": "stdout",
       "text": [
        "shape of data: \n",
        "(28, 22, 20)\n"
       ]
      }
     ],
     "prompt_number": 2
    },
    {
     "cell_type": "markdown",
     "metadata": {},
     "source": [
      "So I just created some fake temperature data for some latitude, longitude and a number of depth levels. The shape of the data array is (28,22,20) representing (lon, lat, z). For concreteness, let's assume that this represents data for one day.\n",
      "\n",
      "The next step is to specify the **dimensions** that describe my data:"
     ]
    },
    {
     "cell_type": "code",
     "collapsed": false,
     "input": [
      "#if you run this cell more than once it will throw an error\n",
      "tempgrp.createDimension('lon', len(lon))\n",
      "tempgrp.createDimension('lat', len(lat))\n",
      "tempgrp.createDimension('z', len(z))\n",
      "tempgrp.createDimension('time', None)"
     ],
     "language": "python",
     "metadata": {},
     "outputs": [
      {
       "metadata": {},
       "output_type": "pyout",
       "prompt_number": 3,
       "text": [
        "<netCDF4.Dimension at 0x10bf5bdc0>"
       ]
      }
     ],
     "prompt_number": 3
    },
    {
     "cell_type": "markdown",
     "metadata": {},
     "source": [
      "Here I used the `createDimension` method. The first argument is a string specifying the name of the dimension; the second is an integer that specifies its length. In the last line, by using `None`, I have made `time` an *unlimited* dimension. This is in anticipation of receiving more data in the future. By making the time dimension unlimited, I can append data to that dimension indefinitely.\n",
      "\n",
      "Next, I create netCDF **variables** using the dimensions I created:"
     ]
    },
    {
     "cell_type": "code",
     "collapsed": false,
     "input": [
      "longitude = tempgrp.createVariable('Longitude', 'f4', 'lon')\n",
      "latitude = tempgrp.createVariable('Latitude', 'f4', 'lat')\n",
      "levels = tempgrp.createVariable('Levels', 'i4', 'z')\n",
      "temp = tempgrp.createVariable('Temperature', 'f4', ('time', 'lon', 'lat', 'z'), zlib=True)\n",
      "time = tempgrp.createVariable('Time', 'i4', 'time')"
     ],
     "language": "python",
     "metadata": {},
     "outputs": [],
     "prompt_number": 4
    },
    {
     "cell_type": "markdown",
     "metadata": {},
     "source": [
      "Let's look at what we have done so far,"
     ]
    },
    {
     "cell_type": "code",
     "collapsed": false,
     "input": [
      "print(f)"
     ],
     "language": "python",
     "metadata": {},
     "outputs": [
      {
       "output_type": "stream",
       "stream": "stdout",
       "text": [
        "<type 'netCDF4.Dataset'>\n",
        "root group (NETCDF4 data model, file format UNDEFINED):\n",
        "    dimensions(sizes): \n",
        "    variables(dimensions): \n",
        "    groups: Temp_data\n",
        "\n"
       ]
      }
     ],
     "prompt_number": 5
    },
    {
     "cell_type": "code",
     "collapsed": false,
     "input": [
      "print(f.groups['Temp_data']) #same as print(tempgrp)"
     ],
     "language": "python",
     "metadata": {},
     "outputs": [
      {
       "output_type": "stream",
       "stream": "stdout",
       "text": [
        "<type 'netCDF4.Group'>\n",
        "group /Temp_data:\n",
        "    dimensions(sizes): lon(28), lat(22), z(20), time(0)\n",
        "    variables(dimensions): float32 \u001b[4mLongitude\u001b[0m(lon), float32 \u001b[4mLatitude\u001b[0m(lat), int32 \u001b[4mLevels\u001b[0m(z), float32 \u001b[4mTemperature\u001b[0m(time,lon,lat,z), int32 \u001b[4mTime\u001b[0m(time)\n",
        "    groups: \n",
        "\n"
       ]
      }
     ],
     "prompt_number": 6
    },
    {
     "cell_type": "code",
     "collapsed": false,
     "input": [
      "tempgrp.variables.keys()"
     ],
     "language": "python",
     "metadata": {},
     "outputs": [
      {
       "metadata": {},
       "output_type": "pyout",
       "prompt_number": 7,
       "text": [
        "['Longitude', 'Latitude', 'Levels', 'Temperature', 'Time']"
       ]
      }
     ],
     "prompt_number": 7
    },
    {
     "cell_type": "code",
     "collapsed": false,
     "input": [
      "tempgrp.dimensions.keys()"
     ],
     "language": "python",
     "metadata": {},
     "outputs": [
      {
       "metadata": {},
       "output_type": "pyout",
       "prompt_number": 8,
       "text": [
        "['lon', 'lat', 'z', 'time']"
       ]
      }
     ],
     "prompt_number": 8
    },
    {
     "cell_type": "code",
     "collapsed": false,
     "input": [
      "longitude[:] = lon\n",
      "latitude[:] = lat\n",
      "levels[:] = z\n",
      "temp[0,:,:,:] = temp_data\n",
      "\n",
      "#get time in days since Jan 01,01\n",
      "from datetime import datetime\n",
      "today = datetime.today()\n",
      "time_num = today.toordinal()\n",
      "time[0] = time_num"
     ],
     "language": "python",
     "metadata": {},
     "outputs": [],
     "prompt_number": 9
    },
    {
     "cell_type": "markdown",
     "metadata": {},
     "source": [
      "The netCDF attributes should provide additional information about the dataset (i.e. metadata). You can add attributes to variables, groups and the dataset itself. Let's do that:"
     ]
    },
    {
     "cell_type": "code",
     "collapsed": false,
     "input": [
      "#Add global attributes\n",
      "f.description = \"Example dataset containing one group\"\n",
      "f.history = \"Created \" + today.strftime(\"%d/%m/%y\")\n",
      "\n",
      "#Add local attributes to variable instances\n",
      "longitude.units = 'degrees east'\n",
      "latitude.units = 'degrees north'\n",
      "time.units = 'days since Jan 01, 0001'\n",
      "temp.units = 'degrees K'\n",
      "levels.units = 'meters'\n",
      "temp.warning = 'This data is not real!'"
     ],
     "language": "python",
     "metadata": {},
     "outputs": [],
     "prompt_number": 10
    },
    {
     "cell_type": "code",
     "collapsed": false,
     "input": [
      "f.close()"
     ],
     "language": "python",
     "metadata": {},
     "outputs": [],
     "prompt_number": 11
    },
    {
     "cell_type": "code",
     "collapsed": false,
     "input": [
      "f = nc4.Dataset('sample.nc','r')\n",
      "tempgrp = f.groups['Temp_data']"
     ],
     "language": "python",
     "metadata": {},
     "outputs": [],
     "prompt_number": 20
    },
    {
     "cell_type": "code",
     "collapsed": false,
     "input": [
      "print \"meta data for the dataset:\"\n",
      "print(f)\n",
      "print \"meta data for the Temp_data group:\"\n",
      "print(tempgrp)\n",
      "print \"meta data for Temperature variable:\"\n",
      "print(tempgrp.variables['Temperature'])"
     ],
     "language": "python",
     "metadata": {},
     "outputs": [
      {
       "output_type": "stream",
       "stream": "stdout",
       "text": [
        "meta data for the dataset:\n",
        "<type 'netCDF4.Dataset'>\n",
        "root group (NETCDF4 data model, file format UNDEFINED):\n",
        "    description: Example dataset containing one group\n",
        "    history: Created 04/12/14\n",
        "    dimensions(sizes): \n",
        "    variables(dimensions): \n",
        "    groups: Temp_data\n",
        "\n",
        "meta data for the Temp_data group:\n",
        "<type 'netCDF4.Group'>\n",
        "group /Temp_data:\n",
        "    dimensions(sizes): lon(28), lat(22), z(20), time(1)\n",
        "    variables(dimensions): float32 \u001b[4mLongitude\u001b[0m(lon), float32 \u001b[4mLatitude\u001b[0m(lat), int32 \u001b[4mLevels\u001b[0m(z), float32 \u001b[4mTemperature\u001b[0m(time,lon,lat,z), int32 \u001b[4mTime\u001b[0m(time)\n",
        "    groups: \n",
        "\n",
        "meta data for Temperature variable:\n",
        "<type 'netCDF4.Variable'>\n",
        "float32 Temperature(time, lon, lat, z)\n",
        "    units: degrees K\n",
        "    warning: This data is not real!\n",
        "path = /Temp_data\n",
        "unlimited dimensions: time\n",
        "current shape = (1, 28, 22, 20)\n",
        "filling on, default _FillValue of 9.96920996839e+36 used\n",
        "\n"
       ]
      }
     ],
     "prompt_number": 21
    },
    {
     "cell_type": "code",
     "collapsed": false,
     "input": [
      "tempgrp.variables.keys()"
     ],
     "language": "python",
     "metadata": {},
     "outputs": [
      {
       "metadata": {},
       "output_type": "pyout",
       "prompt_number": 22,
       "text": [
        "[u'Longitude', u'Latitude', u'Levels', u'Temperature', u'Time']"
       ]
      }
     ],
     "prompt_number": 22
    },
    {
     "cell_type": "code",
     "collapsed": false,
     "input": [
      "zlvls = tempgrp.variables['Levels'][:]\n",
      "print zlvls"
     ],
     "language": "python",
     "metadata": {},
     "outputs": [
      {
       "output_type": "stream",
       "stream": "stdout",
       "text": [
        "[  0  10  20  30  40  50  60  70  80  90 100 110 120 130 140 150 160 170\n",
        " 180 190]\n"
       ]
      }
     ],
     "prompt_number": 24
    },
    {
     "cell_type": "code",
     "collapsed": false,
     "input": [
      "temp_0z = tempgrp.variables['Temperature'][0,:,:,0]"
     ],
     "language": "python",
     "metadata": {},
     "outputs": [],
     "prompt_number": 26
    },
    {
     "cell_type": "code",
     "collapsed": false,
     "input": [
      "print \"%.20f\" %temp_0z[2,2]"
     ],
     "language": "python",
     "metadata": {},
     "outputs": [
      {
       "output_type": "stream",
       "stream": "stdout",
       "text": [
        "10.46504592895507812500\n"
       ]
      }
     ],
     "prompt_number": 33
    }
   ],
   "metadata": {}
  }
 ]
}